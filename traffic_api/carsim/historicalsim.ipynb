{
 "cells": [
  {
   "cell_type": "markdown",
   "metadata": {
    "collapsed": true
   },
   "source": [
    "# Historical Data Simulation"
   ]
  },
  {
   "cell_type": "code",
   "execution_count": 14,
   "metadata": {
    "collapsed": false
   },
   "outputs": [],
   "source": [
    "import pandas as pd\n",
    "from get_cars import get_cars\n",
    "from datetime import datetime\n",
    "import time\n",
    "from datetime import datetime, timedelta"
   ]
  },
  {
   "cell_type": "code",
   "execution_count": 12,
   "metadata": {
    "collapsed": false
   },
   "outputs": [],
   "source": [
    "historical = []\n",
    "\n",
    "num_intersections = 6\n",
    "num_days = 50\n",
    "\n",
    "# One record per hour.\n",
    "records_per_int = num_days * 24\n",
    "id = 0\n",
    "\n",
    "for intersection in range(0, num_intersections):\n",
    "    for i in range(0, records_per_int):\n",
    "        timestamp = time.time() - (i * 3600)\n",
    "        hour = datetime.fromtimestamp(timestamp).hour\n",
    "        cars = get_cars(hour)\n",
    "        historical.append([\n",
    "            id,\n",
    "            intersection,\n",
    "            timestamp,\n",
    "            hour,\n",
    "            cars\n",
    "        ])\n",
    "\n",
    "        id = id+1\n",
    "\n",
    "data = pd.DataFrame(\n",
    "    historical,\n",
    "    columns=[\n",
    "        'id',\n",
    "        'intersection',\n",
    "        'timestamp',\n",
    "        'hour',\n",
    "        'cars'\n",
    "    ],\n",
    ").set_index('id')"
   ]
  },
  {
   "cell_type": "code",
   "execution_count": 29,
   "metadata": {
    "collapsed": false
   },
   "outputs": [],
   "source": [
    "data.to_csv('historical.csv')"
   ]
  },
  {
   "cell_type": "code",
   "execution_count": null,
   "metadata": {
    "collapsed": true
   },
   "outputs": [],
   "source": [
    "!psql $DATABASE_URL -c \"\\copy traffic_api_historicaldata (id, intersection,timestamp,hour,cars) from 'historical.csv' delimiter ',' csv;\""
   ]
  },
  {
   "cell_type": "code",
   "execution_count": 49,
   "metadata": {
    "collapsed": false
   },
   "outputs": [],
   "source": [
    "granularities = [\n",
    "    'hourly',\n",
    "    'daily',\n",
    "    'weekly',\n",
    "    'monthly',\n",
    "    'yearly'\n",
    "]\n",
    "\n",
    "def floor_date(ts, granularity):\n",
    "    '''\n",
    "    Can pass in one of the granularities, floors the timestamp to the given\n",
    "    granularity.\n",
    "\n",
    "    '''\n",
    "\n",
    "    dt = datetime.fromtimestamp(ts)\n",
    "\n",
    "    if granularity == 'yearly':\n",
    "        dt_floor = dt.replace(month=1, day=1, hour=0, minute=0, second=0)\n",
    "    elif granularity == 'monthly':\n",
    "        dt_floor = dt.replace(day=1, hour=0, minute=0, second=0)\n",
    "    elif granularity == 'daily':\n",
    "        dt_floor = dt.replace(hour=0, minute=0, second=0)\n",
    "\n",
    "    # Nothing for hourly.\n",
    "\n",
    "    return time.mktime(dt_floor.timetuple())"
   ]
  },
  {
   "cell_type": "code",
   "execution_count": 68,
   "metadata": {
    "collapsed": false
   },
   "outputs": [
    {
     "name": "stdout",
     "output_type": "stream",
     "text": [
      "10 loops, best of 3: 73.8 ms per loop\n"
     ]
    }
   ],
   "source": [
    "granularity = 'daily'\n",
    "id = 1\n",
    "start_date = 1490770800.0\n",
    "end_date = 1490770800.0\n",
    "\n",
    "\n",
    "results = list(data[data.intersection == id].T.to_dict().values())"
   ]
  },
  {
   "cell_type": "code",
   "execution_count": 65,
   "metadata": {
    "collapsed": false
   },
   "outputs": [
    {
     "name": "stderr",
     "output_type": "stream",
     "text": [
      "/usr/local/lib/python3.6/site-packages/ipykernel/__main__.py:22: RuntimeWarning: overflow encountered in double_scalars\n",
      "/usr/local/lib/python3.6/site-packages/ipykernel/__main__.py:13: RuntimeWarning: overflow encountered in double_scalars\n"
     ]
    },
    {
     "name": "stdout",
     "output_type": "stream",
     "text": [
      "100 loops, best of 3: 11 ms per loop\n"
     ]
    }
   ],
   "source": [
    "%%timeit\n",
    "response = {\n",
    "    'meta': {\n",
    "        'id': id,\n",
    "        'granularity': granularity,\n",
    "        'start_date': start_date,\n",
    "        'end_date': end_date,\n",
    "        'results': len(results)\n",
    "    },\n",
    "    'data': {}\n",
    "}\n",
    "\n",
    "for result in results:\n",
    "    result['cars'] = result['cars'] * 60\n",
    "    result['timestamp'] = floor_date(result['timestamp'], granularity)\n",
    "\n",
    "    # Add a new record at this timetamp.\n",
    "    response['data'][result['timestamp']] = 0\n",
    "\n",
    "# Aggregate results.\n",
    "for result in results:\n",
    "    stored = response['data'][result['timestamp']]\n",
    "    response['data'][result['timestamp']] = stored + result['cars']"
   ]
  },
  {
   "cell_type": "code",
   "execution_count": 73,
   "metadata": {
    "collapsed": false
   },
   "outputs": [],
   "source": [
    "import pandas as pd\n",
    "\n",
    "results = list(data[data.intersection == id].T.to_dict().values())"
   ]
  },
  {
   "cell_type": "code",
   "execution_count": 79,
   "metadata": {
    "collapsed": false
   },
   "outputs": [],
   "source": [
    "df = pd.DataFrame(results)\n",
    "df['datetime'] = pd.to_datetime(df['timestamp'])"
   ]
  },
  {
   "cell_type": "code",
   "execution_count": 96,
   "metadata": {
    "collapsed": false
   },
   "outputs": [
    {
     "data": {
      "text/plain": [
       "datetime.datetime(2017, 2, 17, 0, 0)"
      ]
     },
     "execution_count": 96,
     "metadata": {},
     "output_type": "execute_result"
    }
   ],
   "source": [
    "datetime.fromtimestamp(1487318400.0)"
   ]
  },
  {
   "cell_type": "code",
   "execution_count": 97,
   "metadata": {
    "collapsed": true
   },
   "outputs": [],
   "source": [
    "rsp = {\"meta\": {\"end_date\": \"1490831240\", \"results\": 1198, \"id\": \"1\", \"start_date\": \"149061240\", \"granularity\": \"daily\"}, \"data\": {\"1490774400.0\": 6817.384037734741, \"1490688000.0\": 7837.599197968131, \"1490169600.0\": 6869.602688662619, \"1486800000.0\": 7916.7633464817245, \"1489305600.0\": 7557.368364147035, \"1487491200.0\": 7619.887528333634, \"1488441600.0\": 7157.707346042385, \"1489392000.0\": 7135.753639640365, \"1490256000.0\": 7650.326318441402, \"1486886400.0\": 7400.8782471758705, \"1490342400.0\": 7155.923884834175, \"1487577600.0\": 7552.503406087828, \"1488528000.0\": 7604.702368563361, \"1489478400.0\": 7964.698775008184, \"1490428800.0\": 7718.55774584207, \"1486972800.0\": 7332.785121947016, \"1488614400.0\": 8022.803416441756, \"1487664000.0\": 7748.67292434607, \"1489564800.0\": 7776.709561874931, \"1490515200.0\": 7525.357520063064, \"1488700800.0\": 7365.834755812245, \"1487059200.0\": 7744.604690957611, \"1489651200.0\": 7699.295722825884, \"1487750400.0\": 7501.905360762027, \"1490601600.0\": 7654.575987291482, \"1488787200.0\": 7970.121687491205, \"1488355200.0\": 7275.19353973986, \"1489737600.0\": 7155.845819494222, \"1487923200.0\": 7256.868132216989, \"1487836800.0\": 7894.779051315327, \"1488873600.0\": 6906.432264232839, \"1489824000.0\": 7753.817851225784, \"1489910400.0\": 7123.5397405762305, \"1488009600.0\": 6384.206793762165, \"1486540800.0\": 6221.197087314915, \"1488960000.0\": 7075.095779166928, \"1487145600.0\": 6713.174916893245, \"1490083200.0\": 7227.502975424442, \"1488096000.0\": 7325.8585325211125, \"1489046400.0\": 8120.220704649389, \"1486627200.0\": 7651.359807550103, \"1489996800.0\": 7492.526189708389, \"1488182400.0\": 6506.3946118056665, \"1489132800.0\": 7474.816949249923, \"1487318400.0\": 7727.406976647129, \"1486713600.0\": 7013.314442469741, \"1488268800.0\": 7362.873616826697, \"1487232000.0\": 6774.258223350779, \"1489219200.0\": 8053.172581834075, \"1487404800.0\": 7590.684209742672}}"
   ]
  },
  {
   "cell_type": "code",
   "execution_count": 98,
   "metadata": {
    "collapsed": false
   },
   "outputs": [
    {
     "data": {
      "text/plain": [
       "{'data': {'1486540800.0': 6221.197087314915,\n",
       "  '1486627200.0': 7651.359807550103,\n",
       "  '1486713600.0': 7013.314442469741,\n",
       "  '1486800000.0': 7916.7633464817245,\n",
       "  '1486886400.0': 7400.8782471758705,\n",
       "  '1486972800.0': 7332.785121947016,\n",
       "  '1487059200.0': 7744.604690957611,\n",
       "  '1487145600.0': 6713.174916893245,\n",
       "  '1487232000.0': 6774.258223350779,\n",
       "  '1487318400.0': 7727.406976647129,\n",
       "  '1487404800.0': 7590.684209742672,\n",
       "  '1487491200.0': 7619.887528333634,\n",
       "  '1487577600.0': 7552.503406087828,\n",
       "  '1487664000.0': 7748.67292434607,\n",
       "  '1487750400.0': 7501.905360762027,\n",
       "  '1487836800.0': 7894.779051315327,\n",
       "  '1487923200.0': 7256.868132216989,\n",
       "  '1488009600.0': 6384.206793762165,\n",
       "  '1488096000.0': 7325.8585325211125,\n",
       "  '1488182400.0': 6506.3946118056665,\n",
       "  '1488268800.0': 7362.873616826697,\n",
       "  '1488355200.0': 7275.19353973986,\n",
       "  '1488441600.0': 7157.707346042385,\n",
       "  '1488528000.0': 7604.702368563361,\n",
       "  '1488614400.0': 8022.803416441756,\n",
       "  '1488700800.0': 7365.834755812245,\n",
       "  '1488787200.0': 7970.121687491205,\n",
       "  '1488873600.0': 6906.432264232839,\n",
       "  '1488960000.0': 7075.095779166928,\n",
       "  '1489046400.0': 8120.220704649389,\n",
       "  '1489132800.0': 7474.816949249923,\n",
       "  '1489219200.0': 8053.172581834075,\n",
       "  '1489305600.0': 7557.368364147035,\n",
       "  '1489392000.0': 7135.753639640365,\n",
       "  '1489478400.0': 7964.698775008184,\n",
       "  '1489564800.0': 7776.709561874931,\n",
       "  '1489651200.0': 7699.295722825884,\n",
       "  '1489737600.0': 7155.845819494222,\n",
       "  '1489824000.0': 7753.817851225784,\n",
       "  '1489910400.0': 7123.5397405762305,\n",
       "  '1489996800.0': 7492.526189708389,\n",
       "  '1490083200.0': 7227.502975424442,\n",
       "  '1490169600.0': 6869.602688662619,\n",
       "  '1490256000.0': 7650.326318441402,\n",
       "  '1490342400.0': 7155.923884834175,\n",
       "  '1490428800.0': 7718.55774584207,\n",
       "  '1490515200.0': 7525.357520063064,\n",
       "  '1490601600.0': 7654.575987291482,\n",
       "  '1490688000.0': 7837.599197968131,\n",
       "  '1490774400.0': 6817.384037734741},\n",
       " 'meta': {'end_date': '1490831240',\n",
       "  'granularity': 'daily',\n",
       "  'id': '1',\n",
       "  'results': 1198,\n",
       "  'start_date': '149061240'}}"
      ]
     },
     "execution_count": 98,
     "metadata": {},
     "output_type": "execute_result"
    }
   ],
   "source": [
    "rsp['data']"
   ]
  },
  {
   "cell_type": "code",
   "execution_count": null,
   "metadata": {
    "collapsed": true
   },
   "outputs": [],
   "source": []
  }
 ],
 "metadata": {
  "kernelspec": {
   "display_name": "Python 3",
   "language": "python",
   "name": "python3"
  },
  "language_info": {
   "codemirror_mode": {
    "name": "ipython",
    "version": 3
   },
   "file_extension": ".py",
   "mimetype": "text/x-python",
   "name": "python",
   "nbconvert_exporter": "python",
   "pygments_lexer": "ipython3",
   "version": "3.6.0"
  }
 },
 "nbformat": 4,
 "nbformat_minor": 2
}
