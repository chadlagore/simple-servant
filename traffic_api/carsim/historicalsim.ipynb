{
 "cells": [
  {
   "cell_type": "markdown",
   "metadata": {
    "collapsed": true
   },
   "source": [
    "# Historical Data Simulation"
   ]
  },
  {
   "cell_type": "code",
   "execution_count": 35,
   "metadata": {
    "collapsed": false
   },
   "outputs": [],
   "source": [
    "import pandas as pd\n",
    "from test_api import StreetSmartClient\n",
    "from get_cars import get_cars\n",
    "from datetime import datetime\n",
    "import time"
   ]
  },
  {
   "cell_type": "code",
   "execution_count": 89,
   "metadata": {
    "collapsed": false
   },
   "outputs": [],
   "source": [
    "historical = []\n",
    "\n",
    "num_intersections = 6\n",
    "num_days = 50\n",
    "\n",
    "# One record per hour.\n",
    "records_per_int = num_days * 24\n",
    "id = 0\n",
    "\n",
    "for intersection in range(0, num_intersections):\n",
    "    for i in range(0, records_per_int):\n",
    "        timestamp = time.time() - (i * 3600)\n",
    "        hour = datetime.fromtimestamp(timestamp).hour\n",
    "        cars = get_cars(hour)\n",
    "        historical.append([\n",
    "            id,\n",
    "            intersection,\n",
    "            timestamp,\n",
    "            hour,\n",
    "            cars\n",
    "        ])\n",
    "\n",
    "        id = id+1\n",
    "\n",
    "data = pd.DataFrame(\n",
    "    historical,\n",
    "    columns=[\n",
    "        'id',\n",
    "        'intersection',\n",
    "        'timestamp',\n",
    "        'hour',\n",
    "        'cars'\n",
    "    ],\n",
    ").set_index('id')"
   ]
  },
  {
   "cell_type": "code",
   "execution_count": 90,
   "metadata": {
    "collapsed": false
   },
   "outputs": [],
   "source": [
    "data.to_csv('historical.csv')"
   ]
  },
  {
   "cell_type": "code",
   "execution_count": null,
   "metadata": {
    "collapsed": true
   },
   "outputs": [],
   "source": [
    "!psql $DATABASE_URL -c \"\\copy traffic_api_historicaldata (id, intersection,timestamp,hour,cars) from 'historical.csv' delimiter ',' csv;\""
   ]
  }
 ],
 "metadata": {
  "kernelspec": {
   "display_name": "Python 3",
   "language": "python",
   "name": "python3"
  },
  "language_info": {
   "codemirror_mode": {
    "name": "ipython",
    "version": 3
   },
   "file_extension": ".py",
   "mimetype": "text/x-python",
   "name": "python",
   "nbconvert_exporter": "python",
   "pygments_lexer": "ipython3",
   "version": "3.6.0"
  }
 },
 "nbformat": 4,
 "nbformat_minor": 2
}
